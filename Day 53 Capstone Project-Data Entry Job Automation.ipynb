{
 "cells": [
  {
   "cell_type": "code",
   "execution_count": 21,
   "metadata": {},
   "outputs": [],
   "source": [
    "import requests\n",
    "from bs4 import BeautifulSoup\n",
    "from selenium import webdriver\n",
    "import time\n",
    "URL = \"https://www.zillow.com/homes/for_rent/1-_beds/?searchQueryState=%7B%22pagination%22%3A%7B%7D%2C%22usersSearchTerm%22%3Anull%2C%22mapBounds%22%3A%7B%22west%22%3A-122.56276167822266%2C%22east%22%3A-122.30389632177734%2C%22south%22%3A37.69261345230467%2C%22north%22%3A37.857877098316834%7D%2C%22isMapVisible%22%3Atrue%2C%22filterState%22%3A%7B%22fr%22%3A%7B%22value%22%3Atrue%7D%2C%22fsba%22%3A%7B%22value%22%3Afalse%7D%2C%22fsbo%22%3A%7B%22value%22%3Afalse%7D%2C%22nc%22%3A%7B%22value%22%3Afalse%7D%2C%22cmsn%22%3A%7B%22value%22%3Afalse%7D%2C%22auc%22%3A%7B%22value%22%3Afalse%7D%2C%22fore%22%3A%7B%22value%22%3Afalse%7D%2C%22pmf%22%3A%7B%22value%22%3Afalse%7D%2C%22pf%22%3A%7B%22value%22%3Afalse%7D%2C%22mp%22%3A%7B%22max%22%3A3000%7D%2C%22price%22%3A%7B%22max%22%3A872627%7D%2C%22beds%22%3A%7B%22min%22%3A1%7D%7D%2C%22isListVisible%22%3Atrue%2C%22mapZoom%22%3A12%7D\"\n",
    "header = {\"User-Agent\":\"Mozilla/5.0 (Windows NT 6.1; Win64; x64) AppleWebKit/537.36 (KHTML, like Gecko) Chrome/91.0.4472.77 Safari/537.36\",\"Accept-Language\":\"en-US,en;q=0.9\"}\n",
    "response = requests.get(URL,headers=header)\n",
    "website_html = response.text\n",
    "soup = BeautifulSoup(website_html,\"html.parser\")\n",
    "#print(soup)\n",
    "all_link_elements = soup.select(\".list-card-top a\")\n",
    "\n",
    "all_links = []\n",
    "for link in all_link_elements:\n",
    "    href = link[\"href\"]\n",
    "    print(href)\n",
    "    if \"http\" not in href:\n",
    "        all_links.append(f\"https://www.zillow.com{href}\")\n",
    "    else:\n",
    "        all_links.append(href)\n",
    "\n",
    "all_address_elements = soup.select(\".list-card-info address\")\n",
    "all_addresses = [address.get_text().split(\" | \")[-1] for address in all_address_elements]\n",
    "\n",
    "all_price_elements = soup.select(\".list-card-details li\")\n",
    "all_prices = []\n",
    "for element in all_price_elements:\n",
    "    # Get the prices. Single and multiple listings have different tag & class structures\n",
    "    try:\n",
    "        # Price with only one listing\n",
    "        price = element.select(\".list-card-price\")[0].contents[0]\n",
    "    except IndexError:\n",
    "        print('Multiple listings for the card')\n",
    "        # Price with multiple listings\n",
    "        price = element.select(\".list-card-details li\")[0].contents[0]\n",
    "    finally:\n",
    "        all_prices.append(price)\n",
    "chrome_driver_path = \"C:/Users/lenovo/Documents/100daysof python/chrome driver/chromedriver.exe\"\n",
    "driver = webdriver.Chrome(executable_path=chrome_driver_path)\n",
    "for n in range(len(all_links)):\n",
    "    \n",
    "    driver.get(\"https://docs.google.com/forms/d/e/1FAIpQLSf256FG9BAsPbWGJl5y6kUtRkZyBd11SKaXKKMMK4uFeL-uCw/viewform?usp=sf_link\")\n",
    "    time.sleep(2)\n",
    "    driver.maximize_window()\n",
    "    address = driver.find_element_by_xpath(\n",
    "        '//*[@id=\"mG61Hd\"]/div[2]/div/div[2]/div[1]/div/div/div[2]/div/div[1]/div/div[1]/input')\n",
    "    price = driver.find_element_by_xpath(\n",
    "        '//*[@id=\"mG61Hd\"]/div[2]/div/div[2]/div[2]/div/div/div[2]/div/div[1]/div/div[1]/input')\n",
    "    link = driver.find_element_by_xpath(\n",
    "        '//*[@id=\"mG61Hd\"]/div[2]/div/div[2]/div[3]/div/div/div[2]/div/div[1]/div/div[1]/input')\n",
    "    submit_button = driver.find_element_by_xpath('//*[@id=\"mG61Hd\"]/div[2]/div/div[3]/div[1]/div/div')\n",
    "\n",
    "    address.send_keys(all_addresses[n])\n",
    "    price.send_keys(all_prices[n])\n",
    "    link.send_keys(all_links[n])\n",
    "    submit_button.click()\n",
    "\n"
   ]
  },
  {
   "cell_type": "code",
   "execution_count": null,
   "metadata": {},
   "outputs": [],
   "source": []
  }
 ],
 "metadata": {
  "kernelspec": {
   "display_name": "Python 3",
   "language": "python",
   "name": "python3"
  },
  "language_info": {
   "codemirror_mode": {
    "name": "ipython",
    "version": 3
   },
   "file_extension": ".py",
   "mimetype": "text/x-python",
   "name": "python",
   "nbconvert_exporter": "python",
   "pygments_lexer": "ipython3",
   "version": "3.8.3"
  }
 },
 "nbformat": 4,
 "nbformat_minor": 4
}
