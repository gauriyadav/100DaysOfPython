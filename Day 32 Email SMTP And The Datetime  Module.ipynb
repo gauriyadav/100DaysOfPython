{
 "cells": [
  {
   "cell_type": "code",
   "execution_count": 4,
   "metadata": {},
   "outputs": [],
   "source": [
    "from datetime import datetime\n",
    "import pandas\n",
    "import random\n",
    "import smtplib\n",
    "my_email = \"gy86901@gmail.com\"\n",
    "my_password = \"LUFFYdGY861\"\n",
    "today=datetime.now()\n",
    "today_tuple=(today.month,today.day)\n",
    "data = pandas.read_csv(\"birthdays.csv\")\n",
    "\n",
    "birthdays_dict = {(data_row[\"month\"],data_row[\"day\"]):data_row for (index, data_row) in data.iterrows()}\n",
    "if today_tuple in birthdays_dict:\n",
    "    birthday_person = birthdays_dict[today_tuple]\n",
    "    file_path = f\"letter_templates/letter_{random.randint(1,3)}.txt\"\n",
    "    with open(file_path) as letter_file:\n",
    "        contents=letter_file.read()\n",
    "        contents=contents.replace(\"[NAME]\",birthday_person[\"name\"])\n",
    "    with smtplib.SMTP(\"smtp.gmail.com\") as connection:\n",
    "        connection.starttls()\n",
    "        connection.login(my_email,my_password)\n",
    "        connection.sendmail(from_addr=my_email,to_addrs=birthday_person[\"email\"],msg=f\"Subject:Happy Birthday:\\n\\n{contents}\")    \n",
    "    \n",
    "\n"
   ]
  },
  {
   "cell_type": "code",
   "execution_count": 3,
   "metadata": {},
   "outputs": [],
   "source": [
    "import smtplib\n",
    "my_email = \"gy86901@gmail.com\"\n",
    "password = \"LUFFYdGY861\"\n",
    "connection = smtplib.SMTP(\"smtp.gmail.com\")\n",
    "connection.starttls()\n",
    "connection.login(user=my_email,password=password)\n",
    "connection.sendmail(from_addr=my_email,to_addrs=\"godrathore.gr@gmail.com\",msg=\"I love you the most\")\n",
    "connection.close()"
   ]
  },
  {
   "cell_type": "code",
   "execution_count": null,
   "metadata": {},
   "outputs": [],
   "source": []
  }
 ],
 "metadata": {
  "kernelspec": {
   "display_name": "Python 3",
   "language": "python",
   "name": "python3"
  },
  "language_info": {
   "codemirror_mode": {
    "name": "ipython",
    "version": 3
   },
   "file_extension": ".py",
   "mimetype": "text/x-python",
   "name": "python",
   "nbconvert_exporter": "python",
   "pygments_lexer": "ipython3",
   "version": "3.8.3"
  }
 },
 "nbformat": 4,
 "nbformat_minor": 4
}
