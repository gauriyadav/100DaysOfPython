{
 "cells": [
  {
   "cell_type": "code",
   "execution_count": 8,
   "metadata": {},
   "outputs": [
    {
     "name": "stdout",
     "output_type": "stream",
     "text": [
      "Tell me which exercises you did: Ran 7 miles and walked 7 km\n",
      "{\n",
      "  \"workout\": {\n",
      "    \"date\": \"25/04/2021\",\n",
      "    \"time\": \"13:00:36\",\n",
      "    \"exercise\": \"Running\",\n",
      "    \"duration\": 70.04,\n",
      "    \"calories\": 583.43,\n",
      "    \"id\": 3\n",
      "  }\n",
      "}\n",
      "{\n",
      "  \"workout\": {\n",
      "    \"date\": \"25/04/2021\",\n",
      "    \"time\": \"13:00:36\",\n",
      "    \"exercise\": \"Walking\",\n",
      "    \"duration\": 86.99,\n",
      "    \"calories\": 258.8,\n",
      "    \"id\": 4\n",
      "  }\n",
      "}\n"
     ]
    }
   ],
   "source": [
    "import requests\n",
    "from datetime import datetime\n",
    "import os\n",
    "GENDER=\"female\"\n",
    "WEIGHT_KG=51\n",
    "HEIGHT_CM=164\n",
    "AGE=20\n",
    "\n",
    "API_KEY=os.environ[\"329b33412ecc816e93edc5ee837dbc16\"]\n",
    "APP_ID=os.environ[\"4e7ebfaf\"]\n",
    "exercise_endpoint=\"https://trackapi.nutritionix.com/v2/natural/exercise\"\n",
    "sheet_endpoint=os.environ[\"https://api.sheety.co/8bdcf1eed1b4025980f8f684e3e505b0/myWorkouts/workouts\"]\n",
    "text=input(\"Tell me which exercises you did: \")\n",
    "headers={\n",
    "    \"x-app-id\":APP_ID,\n",
    "    \"x-app-key\":API_KEY,\n",
    "}\n",
    "parameters={\n",
    "    \"query\":text,\n",
    "    \"gender\":GENDER,\n",
    "    \"weight_kg\":WEIGHT_KG,\n",
    "    \"height_cm\":HEIGHT_CM,\n",
    "    \"age\":AGE\n",
    "}\n",
    "response=requests.post(exercise_endpoint, json=parameters, headers=headers)\n",
    "result=response.json()\n",
    "today_date = datetime.now().strftime(\"%d/%m/%Y\")\n",
    "now_time = datetime.now().strftime(\"%X\")\n",
    "\n",
    "for exercise in result[\"exercises\"]:\n",
    "    sheet_inputs = {\n",
    "        \"workout\": {\n",
    "            \"date\": today_date,\n",
    "            \"time\": now_time,\n",
    "            \"exercise\": exercise[\"name\"].title(),\n",
    "            \"duration\": exercise[\"duration_min\"],\n",
    "            \"calories\": exercise[\"nf_calories\"]\n",
    "        }\n",
    "    }\n",
    "\n",
    "    sheet_response = requests.post(sheet_endpoint, json=sheet_inputs)\n",
    "    \n",
    "\n",
    "    #print(sheet_response.text)\n",
    "    #Bearer Token\n",
    "   \n",
    "    bearer_headers = {\n",
    "    \"Authorization\": f\"Bearer {os.environ['gykrishnay123@']}\"\n",
    "    }\n",
    "    sheet_response = requests.post(\n",
    "        sheet_endpoint, \n",
    "        json=sheet_inputs, \n",
    "        headers=bearer_headers\n",
    "    )\n",
    "\n",
    "    print(sheet_response.text)\n"
   ]
  },
  {
   "cell_type": "code",
   "execution_count": null,
   "metadata": {},
   "outputs": [],
   "source": []
  }
 ],
 "metadata": {
  "kernelspec": {
   "display_name": "Python 3",
   "language": "python",
   "name": "python3"
  },
  "language_info": {
   "codemirror_mode": {
    "name": "ipython",
    "version": 3
   },
   "file_extension": ".py",
   "mimetype": "text/x-python",
   "name": "python",
   "nbconvert_exporter": "python",
   "pygments_lexer": "ipython3",
   "version": "3.8.3"
  }
 },
 "nbformat": 4,
 "nbformat_minor": 4
}
