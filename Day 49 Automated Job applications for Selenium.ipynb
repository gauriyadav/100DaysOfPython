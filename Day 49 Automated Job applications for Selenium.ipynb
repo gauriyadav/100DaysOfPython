{
 "cells": [
  {
   "cell_type": "code",
   "execution_count": null,
   "metadata": {},
   "outputs": [],
   "source": [
    "from selenium import webdriver\n",
    "import time\n",
    "chrome_driver_path= \"C:/Users/lenovo/Documents/100daysof python/chrome driver/chromedriver.exe\"\n",
    "\n",
    "driver = webdriver.Chrome(executable_path = chrome_driver_path)\n",
    "driver.get(\"https://www.linkedin.com/home\")\n",
    "signin = driver.find_element_by_xpath('/html/body/nav/div/a[2]')\n",
    "signin.click()\n",
    "email = driver.find_element_by_xpath('//*[@id=\"username\"]')\n",
    "email.click()\n",
    "email.send_keys(\"gy86901@gmail.com\")\n",
    "password = driver.find_element_by_xpath('//*[@id=\"password\"]')\n",
    "password.click()\n",
    "password.send_keys(\"LuffyG8619\")\n",
    "sign = driver.find_element_by_xpath('//*[@id=\"organic-div\"]/form/div[3]/button')\n",
    "sign.click()\n",
    "time.sleep(5)\n",
    "jobs = driver.find_element_by_id(\"ember24\")\n",
    "jobs.click()\n",
    "time.sleep(5)\n",
    "skill = driver.find_element_by_id(\"jobs-search-box-keyword-id-ember262\")\n",
    "skill.click()\n",
    "skill.send_keys(\"python developer\")\n",
    "loc = driver.find_element_by_id(\"jobs-search-box-location-id-ember262\")\n",
    "loc.click()\n",
    "loc.send_keys(\"London, England, United Kingdom\")\n",
    "search = driver.find_element_by_xpath('//*[@id=\"global-nav-search\"]/div/div[2]/button[1]')\n",
    "search.click()    \n",
    "select = driver.find_element_by_id(\"ember1216\")\n",
    "select.click()\n",
    "save = driver.find_element_by_xpath('//*[@id=\"ember47\"]/button')\n",
    "save.click()\n",
    "    \n",
    "\n",
    "    \n",
    "\n"
   ]
  }
 ],
 "metadata": {
  "kernelspec": {
   "display_name": "Python 3",
   "language": "python",
   "name": "python3"
  },
  "language_info": {
   "codemirror_mode": {
    "name": "ipython",
    "version": 3
   },
   "file_extension": ".py",
   "mimetype": "text/x-python",
   "name": "python",
   "nbconvert_exporter": "python",
   "pygments_lexer": "ipython3",
   "version": "3.8.3"
  }
 },
 "nbformat": 4,
 "nbformat_minor": 4
}
