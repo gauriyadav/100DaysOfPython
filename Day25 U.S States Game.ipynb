{
 "cells": [
  {
   "cell_type": "code",
   "execution_count": null,
   "metadata": {},
   "outputs": [],
   "source": [
    "import turtle\n",
    "import pandas\n",
    "screen = turtle.Screen()\n",
    "screen.title(\"U.S.States Game\")\n",
    "image = \"blank_states_img.gif\"\n",
    "screen.addshape(image)\n",
    "turtle.shape(image)\n",
    "\n",
    "data = pandas.read_csv(\"50_states.csv\")\n",
    "all_states = data.state.to_list()\n",
    "guessed_states = []\n",
    "while len(guessed_states) < 50:\n",
    "  answer_state = screen.textinput(title=f\"{len(guessed_states)}/50 States Correct\",prompt = \"What's another state's name?\").title()\n",
    "  print(answer_state)\n",
    "  if answer_state == \"Exit\":\n",
    "    missing_states = []\n",
    "    for state in all_states:\n",
    "      if state not in guessed_states:\n",
    "        missing_states.append(state)\n",
    "    new_data = pandas.DataFrame(missing_states)\n",
    "    new_data.to_csv(\"states_to_learn.csv\")\n",
    "    break\n",
    "\n",
    "\n",
    "   \n",
    "  if answer_state in all_states:\n",
    "    guessed_states.append(answer_state)\n",
    "    t = turtle.Turtle()\n",
    "    t.hideturtle()\n",
    "    t.penup()\n",
    "    state_data = data[data.state == answer_state]\n",
    "    t.goto(int(state_data.x), int(state_data.y))\n",
    "    t.write(state_data.state.item())\n",
    "\n",
    "\n",
    "\n"
   ]
  }
 ],
 "metadata": {
  "kernelspec": {
   "display_name": "Python 3",
   "language": "python",
   "name": "python3"
  },
  "language_info": {
   "codemirror_mode": {
    "name": "ipython",
    "version": 3
   },
   "file_extension": ".py",
   "mimetype": "text/x-python",
   "name": "python",
   "nbconvert_exporter": "python",
   "pygments_lexer": "ipython3",
   "version": "3.8.3"
  }
 },
 "nbformat": 4,
 "nbformat_minor": 4
}
