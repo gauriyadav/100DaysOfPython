{
 "cells": [
  {
   "cell_type": "code",
   "execution_count": 1,
   "metadata": {},
   "outputs": [],
   "source": []
  },
  {
   "cell_type": "code",
   "execution_count": 23,
   "metadata": {},
   "outputs": [],
   "source": [
    "from selenium.webdriver.common.keys import Keys\n",
    "import time\n",
    "chrome_driver_path = \"C:/Users/lenovo/Documents/100daysof python/chrome driver/chromedriver.exe\"\n",
    "PROMISED_DOWN = 150\n",
    "PROMISED_UP = 10\n",
    "\n",
    "class InternetSpeedTwitterBot:\n",
    "    def __init__(self,chrome_driver_path):\n",
    "        self.driver = webdriver.Chrome(executable_path = chrome_driver_path)\n",
    "        self.up = 0\n",
    "        self.down = 0\n",
    "        \n",
    "        \n",
    "    def get_internet_speed(self):\n",
    "        driver = webdriver.Chrome(executable_path = chrome_driver_path)\n",
    "        driver.get(\"https://www.speedtest.net/\")\n",
    "        driver.maximize_window() \n",
    "        tap = driver.find_element_by_xpath('//*[@id=\"container\"]/div/div[3]/div/div/div/div[2]/div[3]/div[1]/a/span[4]')\n",
    "        tap.click()\n",
    "        time.sleep(60)\n",
    "        self.up = driver.find_element_by_xpath('//*[@id=\"container\"]/div/div[3]/div/div/div/div[2]/div[3]/div[3]/div/div[3]/div/div/div[2]/div[1]/div[3]/div/div[2]/span').text\n",
    "        self.down = driver.find_element_by_xpath('//*[@id=\"container\"]/div/div[3]/div/div/div/div[2]/div[3]/div[3]/div/div[3]/div/div/div[2]/div[1]/div[2]/div/div[2]/span').text\n",
    "        \n",
    "        \n",
    "    def tweet_at_provider(self):\n",
    "        driver = webdriver.Chrome(executable_path = chrome_driver_path)\n",
    "        driver.get(\"https://twitter.com/home\")\n",
    "        driver.maximize_window()\n",
    "        time.sleep(5)\n",
    "        mail = driver.find_element_by_xpath('//*[@id=\"react-root\"]/div/div/div[2]/main/div/div/div[2]/form/div/div[1]/label/div/div[2]/div/input')\n",
    "        passw = driver.find_element_by_xpath('//*[@id=\"react-root\"]/div/div/div[2]/main/div/div/div[2]/form/div/div[2]/label/div/div[2]/div/input')\n",
    "        mail.send_keys(\"gy86901@gmail.com\")\n",
    "        passw.send_keys(\"GauriDLuffy\")\n",
    "        login = driver.find_element_by_xpath('//*[@id=\"react-root\"]/div/div/div[2]/main/div/div/div[2]/form/div/div[3]/div')\n",
    "        login.click()\n",
    "        \n",
    "        tweet = driver.find_element_by_xpath('//*[@id=\"react-root\"]/div/div/div[2]/main/div/div/div/div/div/div[2]/div/div[2]/div[1]/div/div/div/div[2]/div[1]/div/div/div/div/div/div/div/div/label/div[1]/div/div/div/div/div[2]/div/div/div/div')\n",
    "        tweet.click()\n",
    "        tweetw = f\"Hey Internet Provider, why is my internet speed {self.down}down/{self.up}up when I pay for {PROMISED_DOWN}down/{PROMISED_UP}up?\"\n",
    "        tweet.send_keys(tweetw)\n",
    "bot = InternetSpeedTwitterBot(chrome_driver_path)\n",
    "bot.get_internet_speed()\n",
    "aot = InternetSpeedTwitterBot(chrome_driver_path)\n",
    "aot.tweet_at_provider()"
   ]
  },
  {
   "cell_type": "code",
   "execution_count": null,
   "metadata": {},
   "outputs": [],
   "source": []
  }
 ],
 "metadata": {
  "kernelspec": {
   "display_name": "Python 3",
   "language": "python",
   "name": "python3"
  },
  "language_info": {
   "codemirror_mode": {
    "name": "ipython",
    "version": 3
   },
   "file_extension": ".py",
   "mimetype": "text/x-python",
   "name": "python",
   "nbconvert_exporter": "python",
   "pygments_lexer": "ipython3",
   "version": "3.8.3"
  }
 },
 "nbformat": 4,
 "nbformat_minor": 4
}
