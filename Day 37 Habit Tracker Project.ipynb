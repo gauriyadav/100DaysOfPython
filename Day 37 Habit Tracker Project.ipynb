{
 "cells": [
  {
   "cell_type": "code",
   "execution_count": 7,
   "metadata": {},
   "outputs": [
    {
     "name": "stdout",
     "output_type": "stream",
     "text": [
      "How many kilometers did you cycled today?14\n"
     ]
    }
   ],
   "source": [
    "import requests\n",
    "from datetime import datetime\n",
    "USERNAME=\"gaurii\"\n",
    "TOKEN= \"hjkh34h3jk4hj34h3jh41\"\n",
    "GRAPH_ID=\"graph1\"\n",
    "pixela_endpoint=\"https://pixe.la/v1/users\"\n",
    "user_params={\"token\":TOKEN,\n",
    "            \"username\":USERNAME,\n",
    "            \"agreeTermsOfService\":\"yes\",\n",
    "            \"notMinor\":\"yes\",}\n",
    "\n",
    "#response=requests.post(url=pixela_endpoint,json=user_params)\n",
    "#print(response.text)\n",
    "graph_endpoint=f\"{pixela_endpoint}/{USERNAME}/graphs\"\n",
    "graph_config={\n",
    "    \"id\":GRAPH_ID,\n",
    "    \"name\":\"Cycling Graph\",\n",
    "    \"unit\":\"km\",\n",
    "    \"type\":\"float\",\n",
    "    \"color\":\"ajisai\",\n",
    "}\n",
    "headers={\n",
    "    \"X-USER-TOKEN\":TOKEN\n",
    "}\n",
    "#response=requests.post(url=graph_endpoint,json=graph_config,headers=headers)\n",
    "#print(response.text)\n",
    "pixela_creation_endpoint=f\"{pixela_endpoint}/{USERNAME}/graphs/{GRAPH_ID}\"\n",
    "today=datetime.now()\n",
    "#print(today.strftime(\"%Y%m%d\"))\n",
    "pixela_data={\n",
    "    \"date\":today.strftime(\"%Y%m%d\"),\n",
    "    \"quantity\":input(\"How many kilometers did you cycled today?\"),\n",
    "    \n",
    "}\n",
    "#response=requests.post(url=pixela_creation_endpoint,json=pixela_data,headers=headers)\n",
    "#print(response.text)\n",
    "update_endpoint=f\"{pixela_endpoint}/{USERNAME}/graphs/{GRAPH_ID}/{today.strftime('%Y%m%d')}\"\n",
    "new_pixela_data={\n",
    "    \"quantity\":\"7.5\",\n",
    "    \n",
    "}\n",
    "\n",
    "#response=requests.put(url=update_endpoint,json=new_pixela_data,headers=headers)\n",
    "#print(response.text)\n",
    "delete_endpoint=f\"{pixela_endpoint}/{USERNAME}/graphs/{GRAPH_ID}/{today.strftime('%Y%m%d')}\"\n",
    "#response=requests.delete(url=delete_endpoint,headers=headers)\n",
    "#print(response.text)\n",
    "\n",
    "\n",
    "\n"
   ]
  },
  {
   "cell_type": "code",
   "execution_count": null,
   "metadata": {},
   "outputs": [],
   "source": []
  }
 ],
 "metadata": {
  "kernelspec": {
   "display_name": "Python 3",
   "language": "python",
   "name": "python3"
  },
  "language_info": {
   "codemirror_mode": {
    "name": "ipython",
    "version": 3
   },
   "file_extension": ".py",
   "mimetype": "text/x-python",
   "name": "python",
   "nbconvert_exporter": "python",
   "pygments_lexer": "ipython3",
   "version": "3.8.3"
  }
 },
 "nbformat": 4,
 "nbformat_minor": 4
}
