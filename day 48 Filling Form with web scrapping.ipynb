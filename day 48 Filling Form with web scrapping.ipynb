{
 "cells": [
  {
   "cell_type": "code",
   "execution_count": 3,
   "metadata": {},
   "outputs": [],
   "source": [
    "from selenium import webdriver\n",
    "chrome_driver_path= \"C:/Users/lenovo/Documents/100daysof python/chrome driver/chromedriver.exe\"\n",
    "\n",
    "driver = webdriver.Chrome(executable_path = chrome_driver_path)\n",
    "driver.get(\"http://secure-retreat-92358.herokuapp.com/\")\n",
    "f = driver.find_element_by_name(\"fName\")\n",
    "f.click()\n",
    "f.send_keys(\"Gauri\")\n",
    "g = driver.find_element_by_name(\"lName\")\n",
    "g.click()\n",
    "g.send_keys(\"Yadav\")\n",
    "e = driver.find_element_by_name(\"email\")\n",
    "e.click()\n",
    "e.send_keys(\"yadavgauri@gmail.com\")\n",
    "s = driver.find_element_by_xpath(\"/html/body/form/button\")\n",
    "s.click()"
   ]
  },
  {
   "cell_type": "code",
   "execution_count": null,
   "metadata": {},
   "outputs": [],
   "source": []
  }
 ],
 "metadata": {
  "kernelspec": {
   "display_name": "Python 3",
   "language": "python",
   "name": "python3"
  },
  "language_info": {
   "codemirror_mode": {
    "name": "ipython",
    "version": 3
   },
   "file_extension": ".py",
   "mimetype": "text/x-python",
   "name": "python",
   "nbconvert_exporter": "python",
   "pygments_lexer": "ipython3",
   "version": "3.8.3"
  }
 },
 "nbformat": 4,
 "nbformat_minor": 4
}
