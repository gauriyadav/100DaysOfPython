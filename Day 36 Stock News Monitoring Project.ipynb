{
 "cells": [
  {
   "cell_type": "code",
   "execution_count": 23,
   "metadata": {},
   "outputs": [
    {
     "name": "stdout",
     "output_type": "stream",
     "text": [
      "744.1200\n",
      "718.9900\n",
      "3\n",
      "[{'source': {'id': None, 'name': 'Yahoo Entertainment'}, 'author': 'Rideshare Rental, Inc.', 'title': 'EVmo, Inc Announces Delivery of its first Fleet of Tesla Vehicles Under Its Fleet Partnership with Tesla', 'description': 'Telsa Fleet Partnership is part of Strategy to become the first U.S. Ride Share Company with an all-EV Fleet.Ahead of Schedule in Converting its Ride Share...', 'url': 'https://finance.yahoo.com/news/evmo-inc-announces-delivery-first-113000766.html', 'urlToImage': 'https://s.yimg.com/uu/api/res/1.2/3ibCzFjAoG3BnQaRP1VEGA--~B/aD0yMDM7dz00NDg7YXBwaWQ9eXRhY2h5b24-/https://media.zenfs.com/en/globenewswire.com/95c0bcee984c12acebf9026ddd70a296', 'publishedAt': '2021-03-25T11:30:00Z', 'content': '<ul><li>Telsa Fleet Partnership is part of Strategy to become the first U.S. Ride Share Company with an all-EV Fleet.\\r\\n</li><li>Ahead of Schedule in Converting its Ride Share Fleet to all EV by end o… [+8201 chars]'}, {'source': {'id': None, 'name': 'Yahoo Entertainment'}, 'author': 'PR Newswire', 'title': 'T4L, Inc. - Over 267 Investors Enthusiastically Investing in a Startup Business That Provides an All-Inclusive Subscription Service to Electric Vehicles Like Tesla', 'description': 'T4L, Inc. today announced that their equity crowdfund campaign on https://wefunder.com/t4l has raised over $143,951 from over 267 investors. T4L has received...', 'url': 'https://finance.yahoo.com/news/t4l-inc-over-267-investors-123100651.html', 'urlToImage': 'https://s.yimg.com/uu/api/res/1.2/OTeNEl5FqG2sTZsQWxLxgg--~B/aD00MDA7dz00MDA7YXBwaWQ9eXRhY2h5b24-/https://media.zenfs.com/en/prnewswire.com/ba6c717822d6bb8568e458229f0b7714', 'publishedAt': '2021-04-07T12:31:00Z', 'content': 'NAPLES, Fla., April 7, 2021 /PRNewswire/ -- T4L, Inc. today announced that their equity crowdfund campaign on https://wefunder.com/t4l has raised over $143,951 from over 267 investors. T4L has receiv… [+2437 chars]'}, {'source': {'id': None, 'name': 'Business Standard'}, 'author': 'Reuters', 'title': 'Tesla Inc posts record deliveries in first quarter, beats estimates', 'description': 'Tesla Inc on Friday posted record deliveries for the January to March quarter, beating Wall Street estimates, as solid demand offset the impact of a global shortage of parts.', 'url': 'https://www.business-standard.com/article/international/tesla-inc-posts-record-deliveries-in-first-quarter-beats-estimates-121040200949_1.html', 'urlToImage': 'https://bsmedia.business-standard.com/_media/bs/img/article/2021-02/09/full/1612818013-7128.jpg', 'publishedAt': '2021-04-02T14:13:51Z', 'content': '(Reuters) - Tesla Inc on Friday posted record deliveries for the January to March quarter, beating Wall Street estimates, as solid demand offset the impact of a global shortage of parts.\\r\\n\"We are enc… [+2659 chars]'}, {'source': {'id': None, 'name': 'PRNewswire'}, 'author': None, 'title': 'T4L, Inc. - Over 267 Investors Enthusiastically Investing in a Startup Business That Provides an All-Inclusive Subscription Service to Electric Vehicles Like Tesla', 'description': 'NAPLES, Fla., April 7, 2021 /PRNewswire/ -- T4L, Inc. today announced that their equity crowdfund campaign on https://wefunder.com/t4l has raised over $143,951 from over 267 investors. T4L has received great feedback and endorsements from their early-stage eq…', 'url': 'https://www.prnewswire.com/news-releases/t4l-inc--over-267-investors-enthusiastically-investing-in-a-startup-business-that-provides-an-all-inclusive-subscription-service-to-electric-vehicles-like-tesla-301263471.html', 'urlToImage': 'https://mma.prnewswire.com/media/1481889/T4L.jpg?p=facebook', 'publishedAt': '2021-04-07T12:31:00Z', 'content': 'NAPLES, Fla., April 7, 2021 /PRNewswire/ --\\xa0T4L, Inc. today announced that their equity crowdfund campaign on https://wefunder.com/t4l\\xa0has raised over $143,951 from over 267 investors.\\xa0T4L has receiv… [+2125 chars]'}]\n",
      "[{'source': {'id': None, 'name': 'Yahoo Entertainment'}, 'author': 'Rideshare Rental, Inc.', 'title': 'EVmo, Inc Announces Delivery of its first Fleet of Tesla Vehicles Under Its Fleet Partnership with Tesla', 'description': 'Telsa Fleet Partnership is part of Strategy to become the first U.S. Ride Share Company with an all-EV Fleet.Ahead of Schedule in Converting its Ride Share...', 'url': 'https://finance.yahoo.com/news/evmo-inc-announces-delivery-first-113000766.html', 'urlToImage': 'https://s.yimg.com/uu/api/res/1.2/3ibCzFjAoG3BnQaRP1VEGA--~B/aD0yMDM7dz00NDg7YXBwaWQ9eXRhY2h5b24-/https://media.zenfs.com/en/globenewswire.com/95c0bcee984c12acebf9026ddd70a296', 'publishedAt': '2021-03-25T11:30:00Z', 'content': '<ul><li>Telsa Fleet Partnership is part of Strategy to become the first U.S. Ride Share Company with an all-EV Fleet.\\r\\n</li><li>Ahead of Schedule in Converting its Ride Share Fleet to all EV by end o… [+8201 chars]'}, {'source': {'id': None, 'name': 'Yahoo Entertainment'}, 'author': 'PR Newswire', 'title': 'T4L, Inc. - Over 267 Investors Enthusiastically Investing in a Startup Business That Provides an All-Inclusive Subscription Service to Electric Vehicles Like Tesla', 'description': 'T4L, Inc. today announced that their equity crowdfund campaign on https://wefunder.com/t4l has raised over $143,951 from over 267 investors. T4L has received...', 'url': 'https://finance.yahoo.com/news/t4l-inc-over-267-investors-123100651.html', 'urlToImage': 'https://s.yimg.com/uu/api/res/1.2/OTeNEl5FqG2sTZsQWxLxgg--~B/aD00MDA7dz00MDA7YXBwaWQ9eXRhY2h5b24-/https://media.zenfs.com/en/prnewswire.com/ba6c717822d6bb8568e458229f0b7714', 'publishedAt': '2021-04-07T12:31:00Z', 'content': 'NAPLES, Fla., April 7, 2021 /PRNewswire/ -- T4L, Inc. today announced that their equity crowdfund campaign on https://wefunder.com/t4l has raised over $143,951 from over 267 investors. T4L has receiv… [+2437 chars]'}, {'source': {'id': None, 'name': 'Business Standard'}, 'author': 'Reuters', 'title': 'Tesla Inc posts record deliveries in first quarter, beats estimates', 'description': 'Tesla Inc on Friday posted record deliveries for the January to March quarter, beating Wall Street estimates, as solid demand offset the impact of a global shortage of parts.', 'url': 'https://www.business-standard.com/article/international/tesla-inc-posts-record-deliveries-in-first-quarter-beats-estimates-121040200949_1.html', 'urlToImage': 'https://bsmedia.business-standard.com/_media/bs/img/article/2021-02/09/full/1612818013-7128.jpg', 'publishedAt': '2021-04-02T14:13:51Z', 'content': '(Reuters) - Tesla Inc on Friday posted record deliveries for the January to March quarter, beating Wall Street estimates, as solid demand offset the impact of a global shortage of parts.\\r\\n\"We are enc… [+2659 chars]'}]\n"
     ]
    },
    {
     "data": {
      "text/plain": [
       "'\\nTSLA: 🔺2%\\nHeadline: Were Hedge Funds Right About Piling Into Tesla Inc. (TSLA)?. \\nBrief: We at Insider Monkey have gone over 821 13F filings that hedge funds and prominent investors are required to file by the SEC The 13F filings show the funds\\' and investors\\' portfolio positions as of March 31st, near the height of the coronavirus market crash.\\nor\\n\"TSLA: 🔻5%\\nHeadline: Were Hedge Funds Right About Piling Into Tesla Inc. (TSLA)?. \\nBrief: We at Insider Monkey have gone over 821 13F filings that hedge funds and prominent investors are required to file by the SEC The 13F filings show the funds\\' and investors\\' portfolio positions as of March 31st, near the height of the coronavirus market crash.\\n'"
      ]
     },
     "execution_count": 23,
     "metadata": {},
     "output_type": "execute_result"
    }
   ],
   "source": [
    "import requests\n",
    "from twilio.rest import Client\n",
    "STOCK_NAME = \"TSLA\"\n",
    "COMPANY_NAME = \"Tesla Inc\"\n",
    "\n",
    "STOCK_ENDPOINT = \"https://www.alphavantage.co/query\"\n",
    "NEWS_ENDPOINT = \"https://newsapi.org/v2/everything\"\n",
    "STOCK_API_KEY = \" 4LYCRVPUWI6JTQHH\"\n",
    "NEWS_API_KEY=\"532c261e81d547338a8275e1268b0b4b\"\n",
    "TWILIO_SID=\"AC6fb5720d1139f45d87b2fd88fe277b63\"\n",
    "TWILIO_AUTH_TOKEN=\"a9a1fb3c252ca9b914c57306ca6217ff\"\n",
    "\n",
    "\n",
    "\n",
    "    ## STEP 1: Use https://www.alphavantage.co/documentation/#daily\n",
    "# When stock price increase/decreases by 5% between yesterday and the day before yesterday then print(\"Get News\").\n",
    "\n",
    "\n",
    "stock_params ={\"function\":\"TIME_SERIES_DAILY\",\n",
    "              \"symbol\":STOCK_NAME,\n",
    "              \"apikey\":STOCK_API_KEY,} \n",
    "\n",
    "response=requests.get(STOCK_ENDPOINT,params=stock_params)\n",
    "data=response.json()[\"Time Series (Daily)\"]\n",
    "data_list=[value for (key,value) in data.items()]\n",
    "yesterday_data=data_list[0]\n",
    "yesterday_closing_price=yesterday_data[\"4. close\"]\n",
    "print(yesterday_closing_price)\n",
    "\n",
    "day_before_yesterday_data=data_list[1]\n",
    "day_before_yesterday_closing_price=day_before_yesterday_data[\"4. close\"]\n",
    "print(day_before_yesterday_closing_price)\n",
    "\n",
    "\n",
    "\n",
    "difference=float(yesterday_closing_price)-float(day_before_yesterday_closing_price)\n",
    "up_down=None\n",
    "if difference>0:\n",
    "    up_down=\"⬆️\"\n",
    "else:\n",
    "    up_down=\"⬇️\"\n",
    "\n",
    "diff_percent=round((difference/float(yesterday_closing_price))*100)\n",
    "print(diff_percent)\n",
    "\n",
    "if abs(diff_percent)>1:\n",
    "    news_params={\"apiKey\":NEWS_API_KEY,\n",
    "                \"qInTitle\":COMPANY_NAME,}\n",
    "    news_response=requests.get(NEWS_ENDPOINT,params=news_params)\n",
    "    articles=news_response.json()[\"articles\"]\n",
    "    print(articles)\n",
    "   \n",
    "\n",
    "\n",
    "\n",
    "\n",
    "three_articles=articles[:3]\n",
    "print(three_articles)\n",
    "    ## STEP 3: Use twilio.com/docs/sms/quickstart/python\n",
    "    #to send a separate message with each article's title and description to your phone number. \n",
    "\n",
    "#TODO 8. - Create a new list of the first 3 article's headline and description using list comprehension.\n",
    "#\"Headline :{article title}.\\nBrief:{articledescription}\"\n",
    "formatted_articles=[f\"{STOCK_NAME}:{up_down}{diff_percent}%\\nHeadline :{article['title']}.\\nBrief:{article ['description']}\" for article in three_articles]\n",
    "client=Client(TWILIO_SID,TWILIO_AUTH_TOKEN)\n",
    "for article in formatted_articles:\n",
    "    \n",
    "    \n",
    "    message = client.messages \\\n",
    "                    .create(\n",
    "                         body=article,\n",
    "                         from_=\"+19126423511\",\n",
    "                         to=\"+919079147904\",\n",
    "                     )\n",
    "    \n",
    "\n",
    "#TODO 9. - Send each article as a separate message via Twilio. \n",
    "\n",
    "\n",
    "\n",
    "#Optional TODO: Format the message like this: \n",
    "\"\"\"\n",
    "TSLA: 🔺2%\n",
    "Headline: Were Hedge Funds Right About Piling Into Tesla Inc. (TSLA)?. \n",
    "Brief: We at Insider Monkey have gone over 821 13F filings that hedge funds and prominent investors are required to file by the SEC The 13F filings show the funds' and investors' portfolio positions as of March 31st, near the height of the coronavirus market crash.\n",
    "or\n",
    "\"TSLA: 🔻5%\n",
    "Headline: Were Hedge Funds Right About Piling Into Tesla Inc. (TSLA)?. \n",
    "Brief: We at Insider Monkey have gone over 821 13F filings that hedge funds and prominent investors are required to file by the SEC The 13F filings show the funds' and investors' portfolio positions as of March 31st, near the height of the coronavirus market crash.\n",
    "\"\"\"\n",
    "\n"
   ]
  },
  {
   "cell_type": "code",
   "execution_count": null,
   "metadata": {},
   "outputs": [],
   "source": []
  }
 ],
 "metadata": {
  "kernelspec": {
   "display_name": "Python 3",
   "language": "python",
   "name": "python3"
  },
  "language_info": {
   "codemirror_mode": {
    "name": "ipython",
    "version": 3
   },
   "file_extension": ".py",
   "mimetype": "text/x-python",
   "name": "python",
   "nbconvert_exporter": "python",
   "pygments_lexer": "ipython3",
   "version": "3.8.3"
  }
 },
 "nbformat": 4,
 "nbformat_minor": 4
}
