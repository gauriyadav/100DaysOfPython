{
 "cells": [
  {
   "cell_type": "code",
   "execution_count": null,
   "metadata": {},
   "outputs": [],
   "source": [
    "from turtle import Turtle\n",
    "\n",
    "\n",
    "class Ball(Turtle):\n",
    "\n",
    "    def __init__(self):\n",
    "        super().__init__()\n",
    "        self.color(\"white\")\n",
    "        self.shape(\"circle\")\n",
    "        self.penup()\n",
    "        self.x_move = 3\n",
    "        self.y_move = 3\n",
    "        self.move_speed = 0.1\n",
    "\n",
    "    def move(self):\n",
    "        new_x = self.xcor() + self.x_move\n",
    "        new_y = self.ycor() + self.y_move\n",
    "        self.goto(new_x, new_y)\n",
    "\n",
    "    def bounce_y(self):\n",
    "        self.y_move *= -1\n",
    "\n",
    "    def bounce_x(self):\n",
    "        self.x_move *= -1\n",
    "        self.move_speed *= 0.9\n",
    "\n",
    "    def reset_position(self):\n",
    "        self.goto(0, 0)\n",
    "        self.move_speed = 0.1\n",
    "        self.bounce_x()\n",
    "\n"
   ]
  }
 ],
 "metadata": {
  "kernelspec": {
   "display_name": "Python 3",
   "language": "python",
   "name": "python3"
  },
  "language_info": {
   "codemirror_mode": {
    "name": "ipython",
    "version": 3
   },
   "file_extension": ".py",
   "mimetype": "text/x-python",
   "name": "python",
   "nbconvert_exporter": "python",
   "pygments_lexer": "ipython3",
   "version": "3.8.3"
  }
 },
 "nbformat": 4,
 "nbformat_minor": 4
}
