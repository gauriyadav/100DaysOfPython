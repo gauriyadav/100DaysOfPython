{
 "cells": [
  {
   "cell_type": "code",
   "execution_count": 1,
   "metadata": {},
   "outputs": [],
   "source": [
    "import requests\n",
    "from bs4 import BeautifulSoup\n",
    "URL = \"https://www.sbs.com.au/popasia/blog/2017/10/12/votes-are-top-100-greatest-anime-all-time-voted-you\"\n",
    "response = requests.get(URL)\n",
    "website_html = response.text\n",
    "soup = BeautifulSoup(website_html,\"html.parser\")\n",
    "all_anime= soup.find_all(name = \"h3\")\n",
    "anime_titles = [anime.getText() for anime in all_anime]\n",
    "t_anime = anime_titles[::-1]\n",
    "with open(\"t_anime.txt\",\"w\",encoding=\"utf-8\") as file:\n",
    "    for anime in t_anime:\n",
    "        file.write(f\"{anime}\\n\")\n"
   ]
  },
  {
   "cell_type": "code",
   "execution_count": null,
   "metadata": {},
   "outputs": [],
   "source": []
  }
 ],
 "metadata": {
  "kernelspec": {
   "display_name": "Python 3",
   "language": "python",
   "name": "python3"
  },
  "language_info": {
   "codemirror_mode": {
    "name": "ipython",
    "version": 3
   },
   "file_extension": ".py",
   "mimetype": "text/x-python",
   "name": "python",
   "nbconvert_exporter": "python",
   "pygments_lexer": "ipython3",
   "version": "3.8.3"
  }
 },
 "nbformat": 4,
 "nbformat_minor": 4
}
