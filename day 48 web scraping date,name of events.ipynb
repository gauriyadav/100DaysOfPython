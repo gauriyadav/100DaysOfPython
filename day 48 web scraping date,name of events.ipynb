{
 "cells": [
  {
   "cell_type": "code",
   "execution_count": 7,
   "metadata": {},
   "outputs": [
    {
     "name": "stdout",
     "output_type": "stream",
     "text": [
      "{0: {'time': '2021-06-16', 'name': 'PyFest'}, 1: {'time': '2021-06-18', 'name': 'PyCon Namibia 2021'}, 2: {'time': '2021-07-12', 'name': 'SciPy 2021'}, 3: {'time': '2021-07-26', 'name': 'EuroPython 2021'}, 4: {'time': '2021-07-31', 'name': 'PyOhio 2021'}}\n"
     ]
    }
   ],
   "source": [
    "from selenium import webdriver\n",
    "chrome_driver_path= \"C:/Users/lenovo/Documents/100daysof python/chrome driver/chromedriver.exe\"\n",
    "\n",
    "driver = webdriver.Chrome(executable_path = chrome_driver_path)\n",
    "#driver.get(\"https://www.amazon.in/Longwalk-Women-Sneakers-Walking-Running/dp/B08GZ3X4W7/ref=sr_1_34?crid=YMF2CXUZM0LA&dchild=1&keywords=shoes+sneakers+for+girls&qid=1622970909&sprefix=shoes+sn%2Caps%2C349&sr=8-34\")\n",
    "#price = driver.find_element_by_id(\"priceblock_ourprice\")\n",
    "#print(price.text)\n",
    "#driver.get(\"https://www.python.org/downloads/\")\n",
    "#x_path = driver.find_element_by_xpath('//*[@id=\"site-map\"]/div[2]/div/ul/li[3]/a')\n",
    "#print(x_path.text)\n",
    "driver.get(\"https://www.python.org/\")\n",
    "etime = driver.find_elements_by_css_selector(\".event-widget time \")\n",
    "ename = driver.find_elements_by_css_selector(\".event-widget li a\")\n",
    "\n",
    "events={}\n",
    "for n in range(len(etime)):\n",
    "    events[n]={\n",
    "        \"time\":etime[n].text,\n",
    "        \"name\":ename[n].text\n",
    "    }\n",
    "    \n",
    "print(events)\n",
    "\n"
   ]
  },
  {
   "cell_type": "code",
   "execution_count": null,
   "metadata": {},
   "outputs": [],
   "source": []
  }
 ],
 "metadata": {
  "kernelspec": {
   "display_name": "Python 3",
   "language": "python",
   "name": "python3"
  },
  "language_info": {
   "codemirror_mode": {
    "name": "ipython",
    "version": 3
   },
   "file_extension": ".py",
   "mimetype": "text/x-python",
   "name": "python",
   "nbconvert_exporter": "python",
   "pygments_lexer": "ipython3",
   "version": "3.8.3"
  }
 },
 "nbformat": 4,
 "nbformat_minor": 4
}
