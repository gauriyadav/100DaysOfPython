{
 "cells": [
  {
   "cell_type": "code",
   "execution_count": null,
   "metadata": {},
   "outputs": [],
   "source": [
    "from art import logo\n",
    "print(logo)\n",
    "alphabet = ['a', 'b', 'c', 'd', 'e', 'f', 'g', 'h', 'i', 'j', 'k', 'l', 'm', 'n', 'o', 'p', 'q', 'r', 's', 't', 'u', 'v', 'w', 'x', 'y', 'z', 'a', 'b', 'c', 'd', 'e', 'f', 'g', 'h', 'i', 'j', 'k', 'l', 'm', 'n', 'o', 'p', 'q', 'r', 's', 't', 'u', 'v', 'w', 'x', 'y', 'z']\n",
    "\n",
    "def caesar(start_text, shift_amount, cipher_direction):\n",
    "  end_text = \"\"\n",
    "  if cipher_direction == \"decode\":\n",
    "    shift_amount *= -1\n",
    "  for char in start_text:\n",
    "    if char in alphabet:\n",
    "      position = alphabet.index(char)\n",
    "      new_position = position + shift_amount\n",
    "      end_text += alphabet[new_position]\n",
    "    else:\n",
    "      end_text += char\n",
    "\n",
    "\n",
    "    #TODO-3: What happens if the user enters a number/symbol/space?\n",
    "    #Can you fix the code to keep the number/symbol/space when the text is encoded/decoded?\n",
    "    #e.g. start_text = \"meet me at 3\"\n",
    "    #end_text = \"•••• •• •• 3\"\n",
    "    \n",
    "    \n",
    "  print(f\"Here's the {cipher_direction}d result: {end_text}\")\n",
    "\n",
    "#TODO-1: Import and print the logo from art.py when the program starts.\n",
    "\n",
    "#TODO-4: Can you figure out a way to ask the user if they want to restart the cipher program?\n",
    "#e.g. Type 'yes' if you want to go again. Otherwise type 'no'.\n",
    "#If they type 'yes' then ask them for the direction/text/shift again and call the caesar() function again?\n",
    "#Hint: Try creating a new function that calls itself if they type 'yes'. \n",
    "should_continue = True\n",
    "while should_continue:\n",
    "\n",
    "\n",
    "  direction = input(\"Type 'encode' to encrypt, type 'decode' to decrypt:\\n\")\n",
    "  text = input(\"Type your message:\\n\").lower()\n",
    "  shift = int(input(\"Type the shift number:\\n\"))\n",
    "\n",
    "  #TODO-2: What if the user enters a shift that is greater than the number of letters in the alphabet?\n",
    "  #Try running the program and entering a shift number of 45.\n",
    "  #Hint: Think about how you can use the modulus (%).\n",
    "  shift = shift % 26\n",
    "\n",
    "  caesar(start_text=text, shift_amount=shift, cipher_direction=direction)\n",
    "  result = input(\"Type yes if you want to go again.Otherwise type no.\\n\")\n",
    "  if result == \"no\":\n",
    "    should_continue = False\n",
    "    print(\"GoodBye!\")"
   ]
  }
 ],
 "metadata": {
  "kernelspec": {
   "display_name": "Python 3",
   "language": "python",
   "name": "python3"
  },
  "language_info": {
   "codemirror_mode": {
    "name": "ipython",
    "version": 3
   },
   "file_extension": ".py",
   "mimetype": "text/x-python",
   "name": "python",
   "nbconvert_exporter": "python",
   "pygments_lexer": "ipython3",
   "version": "3.8.3"
  }
 },
 "nbformat": 4,
 "nbformat_minor": 4
}
