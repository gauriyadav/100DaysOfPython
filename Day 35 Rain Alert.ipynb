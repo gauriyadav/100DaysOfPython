{
 "cells": [
  {
   "cell_type": "code",
   "execution_count": 8,
   "metadata": {},
   "outputs": [
    {
     "name": "stdout",
     "output_type": "stream",
     "text": [
      "queued\n"
     ]
    }
   ],
   "source": [
    "import requests\n",
    "from twilio.rest import Client\n",
    "OWN_Endpoint=\"https://api.openweathermap.org/data/2.5/onecall\"\n",
    "api_key=\"2f7fa589c178d00db60b62393b053dab\"\n",
    "account_sid = \"AC63320afe8fd1e1721f74de22c4945aab\"\n",
    "auth_token = \"692b5a615811df7e9bba51a6d1739c1c\"\n",
    "weather_params={\n",
    "    \"lat\":-0.947083,\n",
    "    \"lon\":100.417183,\n",
    "    \"appid\":api_key,\n",
    "    \"exclude\":\"current,minutely,daily\"\n",
    "}\n",
    "response=requests.get(OWN_Endpoint,params=weather_params)\n",
    "response.raise_for_status()\n",
    "weather_data=response.json()\n",
    "weather_slice=weather_data[\"hourly\"][:12]\n",
    "will_rain=False\n",
    "for hour_data in weather_slice:\n",
    "    condition_code=hour_data[\"weather\"][0][\"id\"]\n",
    "    if int(condition_code)<700:\n",
    "        will_rain=True\n",
    "if will_rain:\n",
    "    client = Client(account_sid, auth_token)\n",
    "    message = client.messages \\\n",
    "                .create(\n",
    "                     body=\"It's raining!\",\n",
    "                     from_=\"+12085024317\",\n",
    "                     to=\"+919079147904\"\n",
    "                 )\n",
    "\n",
    "print(message.status)\n",
    "    \n",
    "    \n",
    "\n",
    "\n",
    "    \n",
    "#print(weather_data[\"hourly\"][0][\"weather\"][0][\"id\"])\n",
    "\n",
    "\n"
   ]
  },
  {
   "cell_type": "code",
   "execution_count": null,
   "metadata": {},
   "outputs": [],
   "source": []
  }
 ],
 "metadata": {
  "kernelspec": {
   "display_name": "Python 3",
   "language": "python",
   "name": "python3"
  },
  "language_info": {
   "codemirror_mode": {
    "name": "ipython",
    "version": 3
   },
   "file_extension": ".py",
   "mimetype": "text/x-python",
   "name": "python",
   "nbconvert_exporter": "python",
   "pygments_lexer": "ipython3",
   "version": "3.8.3"
  }
 },
 "nbformat": 4,
 "nbformat_minor": 4
}
