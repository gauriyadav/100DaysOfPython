{
 "cells": [
  {
   "cell_type": "code",
   "execution_count": 53,
   "metadata": {},
   "outputs": [
    {
     "name": "stdout",
     "output_type": "stream",
     "text": [
      "91\n",
      "90\n",
      "89\n"
     ]
    }
   ],
   "source": [
    "from tkinter import *\n",
    "import pandas\n",
    "import random\n",
    "\n",
    "\n",
    "BACKGROUND_COLOR = \"#B1DDC6\"\n",
    "current_card={}\n",
    "to_learn={}\n",
    "try:\n",
    "    \n",
    "    \n",
    "    data = pandas.read_csv(\"data/words_to_learn.csv\")\n",
    "except FileNotFoundError:\n",
    "    original_data = pandas.read_csv(\"data/french_words.csv\")\n",
    "    print(original_data)\n",
    "    to_learn = original_data.to_dict(orient=\"records\")\n",
    "else:\n",
    "    \n",
    "    to_learn = data.to_dict(orient=\"records\")\n",
    "\n",
    "\n",
    "def next_card():\n",
    "    global current_card,flip_timer\n",
    "    window.after_cancel(flip_timer)\n",
    "    current_card = random.choice(to_learn)\n",
    "    \n",
    "    canvas.itemconfig(card_title,text=\"French\",fill=\"black\")\n",
    "    canvas.itemconfig(card_word,text=current_card[\"French\"],fill=\"black\")\n",
    "    canvas.itemconfig(card_background,image=card_front_img)\n",
    "    flip_timer = window.after(3000,func = flip_card)\n",
    "    \n",
    "def flip_card():\n",
    "    canvas.itemconfig(card_title,text=\"English\",fill=\"white\")\n",
    "    canvas.itemconfig(card_word,text=current_card[\"English\"],fill=\"white\")\n",
    "    canvas.itemconfig(card_background,image=card_back_img)\n",
    "def is_known():\n",
    "    to_learn.remove(current_card)\n",
    "    print(len(to_learn))\n",
    "    data = pandas.DataFrame(to_learn)\n",
    "    data.to_csv(\"data/words_to_learn.csv\",index = False)\n",
    "    next_card()\n",
    "    \n",
    "    \n",
    "    \n",
    "    \n",
    "    \n",
    "    \n",
    "    \n",
    "window = Tk()\n",
    "window.title(\"Flashy\")\n",
    "window.config(padx=50,pady=50,bg = BACKGROUND_COLOR)\n",
    "flip_timer = window.after(3000,func = flip_card)\n",
    "canvas = Canvas(width=800,height=526)\n",
    "card_front_img = PhotoImage(file=\"images/card_front.png\")\n",
    "card_back_img = PhotoImage(file=\"images/card_back.png\")\n",
    "card_background = canvas.create_image(400,263,image=card_front_img)\n",
    "card_title = canvas.create_text(400,150,text=\"\",font=(\"Ariel\",40,\"italic\"))\n",
    "card_word = canvas.create_text(400,263,text=\"\",font=(\"Ariel\",60,\"bold\"))\n",
    "canvas.config(bg=BACKGROUND_COLOR,highlightthickness=0)\n",
    "canvas.grid(column=0,row=0)\n",
    "cross_image=PhotoImage(file=\"images/wrong.png\")\n",
    "unknown_button=Button(image=cross_image,highlightthickness=0,command=next_card)\n",
    "unknown_button.grid(column=1,row=0)\n",
    "check_image=PhotoImage(file=\"images/right.png\")\n",
    "known_button=Button(image=check_image,highlightthickness=0,command=is_known)\n",
    "known_button.grid(column=1,row=1)\n",
    "next_card()\n",
    "\n",
    "\n",
    "window.mainloop()"
   ]
  },
  {
   "cell_type": "code",
   "execution_count": null,
   "metadata": {},
   "outputs": [],
   "source": []
  }
 ],
 "metadata": {
  "kernelspec": {
   "display_name": "Python 3",
   "language": "python",
   "name": "python3"
  },
  "language_info": {
   "codemirror_mode": {
    "name": "ipython",
    "version": 3
   },
   "file_extension": ".py",
   "mimetype": "text/x-python",
   "name": "python",
   "nbconvert_exporter": "python",
   "pygments_lexer": "ipython3",
   "version": "3.8.3"
  }
 },
 "nbformat": 4,
 "nbformat_minor": 4
}
