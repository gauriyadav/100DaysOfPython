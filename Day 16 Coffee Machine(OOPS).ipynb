{
 "cells": [
  {
   "cell_type": "code",
   "execution_count": null,
   "metadata": {},
   "outputs": [],
   "source": [
    "from menu import Menu, MenuItem\n",
    "from coffee_maker import CoffeeMaker\n",
    "from money_machine import MoneyMachine\n",
    "money_machine=MoneyMachine()\n",
    "coffee_maker=CoffeeMaker()\n",
    "menu=Menu()\n",
    "is_on=True\n",
    "\n",
    "money_machine.report()\n",
    "coffee_maker.report()\n",
    "while is_on:\n",
    "\n",
    "  options = menu.get_items()\n",
    "  choice = input(f\"What do you like?({options})\")\n",
    "  if choice==\"off\":\n",
    "    is_on=False\n",
    "  elif choice==\"report\":\n",
    "    coffee_maker.report()\n",
    "    money_machine.report()\n",
    "  else:\n",
    "    drink=menu.find_drink(choice)\n",
    "    if coffee_maker.is_resource_sufficient(drink) and  money_machine.make_payment(drink.cost):\n",
    "      coffee_maker.make_coffee(drink)\n",
    "    \n",
    "        \n",
    "\n"
   ]
  }
 ],
 "metadata": {
  "kernelspec": {
   "display_name": "Python 3",
   "language": "python",
   "name": "python3"
  },
  "language_info": {
   "codemirror_mode": {
    "name": "ipython",
    "version": 3
   },
   "file_extension": ".py",
   "mimetype": "text/x-python",
   "name": "python",
   "nbconvert_exporter": "python",
   "pygments_lexer": "ipython3",
   "version": "3.8.3"
  }
 },
 "nbformat": 4,
 "nbformat_minor": 4
}
