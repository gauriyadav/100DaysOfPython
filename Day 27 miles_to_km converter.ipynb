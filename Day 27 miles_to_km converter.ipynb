{
 "cells": [
  {
   "cell_type": "code",
   "execution_count": null,
   "metadata": {},
   "outputs": [],
   "source": [
    "from tkinter import *\n",
    "def miles_to_km():\n",
    "  miles = float(miles_input.get())\n",
    "  km = round(miles*1.609)\n",
    "  kilometer_result_label.config(text=f\"{km}\")\n",
    "\n",
    "window=Tk()\n",
    "window.title(\"Miles To Kilometer Converter\")\n",
    "window.config(padx=50,pady=50)\n",
    "window.minsize(width=500,height=300)\n",
    "miles_input=Entry(width=7)\n",
    "miles_input.grid(column=1,row=0)\n",
    "miles_label=Label(text=\"Miles\")\n",
    "miles_label.grid(column= 2,row=0)\n",
    "\n",
    "is_equal_label = Label(text=\"is equal to\")\n",
    "is_equal_label.grid(column=0 ,row=1 )\n",
    "\n",
    "kilometer_result_label=Label(text=\"0\")\n",
    "kilometer_result_label.grid(column=1 ,row=1)\n",
    "kilometer_label = Label(text=\"Km\")\n",
    "kilometer_label.grid(column= 2,row=1)\n",
    "calculate_button = Button(text=\"Calculate\",command=miles_to_km)\n",
    "calculate_button.grid(column= 1,row=2)\n",
    "\n",
    "\n",
    "\n",
    "\n",
    "\n",
    "\n",
    "\n",
    "\n",
    "\n",
    "window.mainloop()\n"
   ]
  },
  {
   "cell_type": "code",
   "execution_count": null,
   "metadata": {},
   "outputs": [],
   "source": []
  }
 ],
 "metadata": {
  "kernelspec": {
   "display_name": "Python 3",
   "language": "python",
   "name": "python3"
  },
  "language_info": {
   "codemirror_mode": {
    "name": "ipython",
    "version": 3
   },
   "file_extension": ".py",
   "mimetype": "text/x-python",
   "name": "python",
   "nbconvert_exporter": "python",
   "pygments_lexer": "ipython3",
   "version": "3.8.3"
  }
 },
 "nbformat": 4,
 "nbformat_minor": 4
}
