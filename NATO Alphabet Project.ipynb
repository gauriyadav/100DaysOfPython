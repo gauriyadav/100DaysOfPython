{
 "cells": [
  {
   "cell_type": "code",
   "execution_count": null,
   "metadata": {},
   "outputs": [],
   "source": [
    "\n",
    "import pandas\n",
    "\n",
    "\n",
    "\n",
    "    \n",
    "\n",
    "data = pandas.read_csv(\"nato_phonetic_alphabet.csv\")\n",
    "\n",
    "\n",
    "dict = {row.letter:row.code for (index,row) in data.iterrows()}\n",
    "\n",
    "word = input(\"Enter a word: \").upper()\n",
    "output_list = [dict[letter] for letter in word]\n",
    "print(output_list)\n"
   ]
  }
 ],
 "metadata": {
  "kernelspec": {
   "display_name": "Python 3",
   "language": "python",
   "name": "python3"
  },
  "language_info": {
   "codemirror_mode": {
    "name": "ipython",
    "version": 3
   },
   "file_extension": ".py",
   "mimetype": "text/x-python",
   "name": "python",
   "nbconvert_exporter": "python",
   "pygments_lexer": "ipython3",
   "version": "3.8.3"
  }
 },
 "nbformat": 4,
 "nbformat_minor": 4
}
